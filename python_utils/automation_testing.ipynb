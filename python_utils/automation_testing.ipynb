{
 "cells": [
  {
   "cell_type": "code",
   "execution_count": 6,
   "id": "911a0e09-e148-4542-8f28-a5dff2589c3d",
   "metadata": {},
   "outputs": [
    {
     "name": "stdout",
     "output_type": "stream",
     "text": [
      "pytest 6.2.4\n"
     ]
    }
   ],
   "source": [
    "# !pip install pytest\n",
    "# pytest will run all files of the form test_*.py or *_test.py in the current directory and its subdirectories. \n",
    "# The -q/--quiet flag keeps the output brief \n",
    "import pytest\n",
    "!pytest --version"
   ]
  },
  {
   "cell_type": "code",
   "execution_count": 14,
   "id": "72c4d3f0-b7fc-4d57-87ee-02d161e1aa2d",
   "metadata": {},
   "outputs": [
    {
     "name": "stdout",
     "output_type": "stream",
     "text": [
      "Overwriting test_this.py\n"
     ]
    }
   ],
   "source": [
    "%%writefile test_this.py\n",
    "def func(x):\n",
    "    return x + 1\n",
    "\n",
    "\n",
    "def test_answer():\n",
    "    assert func(3) == 4\n",
    "    assert func(3) == 4"
   ]
  },
  {
   "cell_type": "code",
   "execution_count": 15,
   "id": "05d7dcf5-3815-4ede-b72b-cbcd4e4ffc67",
   "metadata": {},
   "outputs": [
    {
     "name": "stdout",
     "output_type": "stream",
     "text": [
      "\u001b[1m============================= test session starts ==============================\u001b[0m\n",
      "platform linux -- Python 3.8.10, pytest-6.2.4, py-1.10.0, pluggy-0.13.1\n",
      "rootdir: /media/sf_Desktop/sample_code\n",
      "plugins: anyio-3.1.0\n",
      "collected 2 items                                                              \u001b[0m\n",
      "\n",
      "test_sample.py \u001b[31mF\u001b[0m\u001b[31m                                                         [ 50%]\u001b[0m\n",
      "test_this.py \u001b[32m.\u001b[0m\u001b[31m                                                           [100%]\u001b[0m\n",
      "\n",
      "=================================== FAILURES ===================================\n",
      "\u001b[31m\u001b[1m_________________________________ test_answer __________________________________\u001b[0m\n",
      "\n",
      "    \u001b[94mdef\u001b[39;49;00m \u001b[92mtest_answer\u001b[39;49;00m():\n",
      ">       \u001b[94massert\u001b[39;49;00m func(\u001b[94m3\u001b[39;49;00m) == \u001b[94m5\u001b[39;49;00m\n",
      "\u001b[1m\u001b[31mE       assert 4 == 5\u001b[0m\n",
      "\u001b[1m\u001b[31mE        +  where 4 = func(3)\u001b[0m\n",
      "\n",
      "\u001b[1m\u001b[31mtest_sample.py\u001b[0m:6: AssertionError\n",
      "=========================== short test summary info ============================\n",
      "FAILED test_sample.py::test_answer - assert 4 == 5\n",
      "\u001b[31m========================= \u001b[31m\u001b[1m1 failed\u001b[0m, \u001b[32m1 passed\u001b[0m\u001b[31m in 0.16s\u001b[0m\u001b[31m ==========================\u001b[0m\n"
     ]
    }
   ],
   "source": [
    "!pytest"
   ]
  },
  {
   "cell_type": "code",
   "execution_count": 21,
   "id": "1bfed555-d96f-4475-9f67-7cd74655f286",
   "metadata": {},
   "outputs": [
    {
     "name": "stdout",
     "output_type": "stream",
     "text": [
      "Overwriting test_class.py\n"
     ]
    }
   ],
   "source": [
    "%%writefile test_class.py\n",
    "class TestClass:\n",
    "    def test_one(self):\n",
    "        x = \"this\"\n",
    "        assert \"h\" in x\n",
    "\n",
    "    def test_two(self):\n",
    "        x = \"hello\"\n",
    "        assert hasattr(x, \"check\") == False"
   ]
  },
  {
   "cell_type": "code",
   "execution_count": 22,
   "id": "e49ab17b-0bf2-4165-88c2-239409169577",
   "metadata": {},
   "outputs": [
    {
     "name": "stdout",
     "output_type": "stream",
     "text": [
      "\u001b[1m============================= test session starts ==============================\u001b[0m\n",
      "platform linux -- Python 3.8.10, pytest-6.2.4, py-1.10.0, pluggy-0.13.1\n",
      "rootdir: /media/sf_Desktop/sample_code\n",
      "plugins: anyio-3.1.0\n",
      "collected 2 items                                                              \u001b[0m\n",
      "\n",
      "test_class.py \u001b[32m.\u001b[0m\u001b[32m.\u001b[0m\u001b[32m                                                         [100%]\u001b[0m\n",
      "\n",
      "\u001b[32m============================== \u001b[32m\u001b[1m2 passed\u001b[0m\u001b[32m in 0.02s\u001b[0m\u001b[32m ===============================\u001b[0m\n"
     ]
    }
   ],
   "source": [
    "!pytest test_class.py"
   ]
  },
  {
   "cell_type": "code",
   "execution_count": 5,
   "id": "29bbba39-a578-4d56-8191-0c4b50530106",
   "metadata": {},
   "outputs": [
    {
     "name": "stdout",
     "output_type": "stream",
     "text": [
      "Overwriting temp_test.py\n"
     ]
    }
   ],
   "source": [
    "%%writefile temp_test.py\n",
    "class TestClassDemoInstance:\n",
    "    def test_one(self):\n",
    "        assert 1\n",
    "\n",
    "    def test_two(self):\n",
    "        assert 0"
   ]
  },
  {
   "cell_type": "code",
   "execution_count": 6,
   "id": "78bb5a6a-6bc1-4389-9ec6-2b32827b7d0b",
   "metadata": {},
   "outputs": [
    {
     "name": "stdout",
     "output_type": "stream",
     "text": [
      "\u001b[1m============================= test session starts ==============================\u001b[0m\n",
      "platform linux -- Python 3.8.10, pytest-6.2.4, py-1.10.0, pluggy-0.13.1\n",
      "rootdir: /media/sf_Desktop/sample_code\n",
      "plugins: anyio-3.1.0\n",
      "collected 2 items                                                              \u001b[0m\n",
      "\n",
      "temp_test.py \u001b[32m.\u001b[0m\u001b[31mF\u001b[0m\u001b[31m                                                          [100%]\u001b[0m\n",
      "\n",
      "=================================== FAILURES ===================================\n",
      "\u001b[31m\u001b[1m________________________ TestClassDemoInstance.test_two ________________________\u001b[0m\n",
      "\n",
      "self = <temp_test.TestClassDemoInstance object at 0x7fc9143d1b20>\n",
      "\n",
      "    \u001b[94mdef\u001b[39;49;00m \u001b[92mtest_two\u001b[39;49;00m(\u001b[96mself\u001b[39;49;00m):\n",
      ">       \u001b[94massert\u001b[39;49;00m \u001b[94m0\u001b[39;49;00m\n",
      "\u001b[1m\u001b[31mE       assert 0\u001b[0m\n",
      "\n",
      "\u001b[1m\u001b[31mtemp_test.py\u001b[0m:6: AssertionError\n",
      "=========================== short test summary info ============================\n",
      "FAILED temp_test.py::TestClassDemoInstance::test_two - assert 0\n",
      "\u001b[31m========================= \u001b[31m\u001b[1m1 failed\u001b[0m, \u001b[32m1 passed\u001b[0m\u001b[31m in 0.08s\u001b[0m\u001b[31m ==========================\u001b[0m\n"
     ]
    }
   ],
   "source": [
    "!pytest temp_test.py"
   ]
  },
  {
   "cell_type": "code",
   "execution_count": 7,
   "id": "5c4a8b14-4ef7-4bbc-a26c-1a8d08582b96",
   "metadata": {},
   "outputs": [
    {
     "name": "stdout",
     "output_type": "stream",
     "text": [
      "Writing test_temp.py\n"
     ]
    }
   ],
   "source": [
    "%%writefile test_temp.py\n",
    "# Assert that a certain exception is raised\n",
    "import pytest\n",
    "def f():\n",
    "    raise SystemExit(1)\n",
    "def test_mytest():\n",
    "    with pytest.raises(SystemExit):\n",
    "        f()"
   ]
  },
  {
   "cell_type": "code",
   "execution_count": 8,
   "id": "06a53f05-d064-4901-8b11-1894fb8a45ab",
   "metadata": {},
   "outputs": [
    {
     "name": "stdout",
     "output_type": "stream",
     "text": [
      "\u001b[32m.\u001b[0m\u001b[32m                                                                        [100%]\u001b[0m\n",
      "\u001b[32m\u001b[32m\u001b[1m1 passed\u001b[0m\u001b[32m in 0.01s\u001b[0m\u001b[0m\n"
     ]
    }
   ],
   "source": [
    "!pytest -q test_temp.py"
   ]
  },
  {
   "cell_type": "code",
   "execution_count": null,
   "id": "52d96674-dd50-4193-99d9-dad8dcd42357",
   "metadata": {},
   "outputs": [],
   "source": []
  }
 ],
 "metadata": {
  "kernelspec": {
   "display_name": "Python 3",
   "language": "python",
   "name": "python3"
  },
  "language_info": {
   "codemirror_mode": {
    "name": "ipython",
    "version": 3
   },
   "file_extension": ".py",
   "mimetype": "text/x-python",
   "name": "python",
   "nbconvert_exporter": "python",
   "pygments_lexer": "ipython3",
   "version": "3.8.10"
  }
 },
 "nbformat": 4,
 "nbformat_minor": 5
}

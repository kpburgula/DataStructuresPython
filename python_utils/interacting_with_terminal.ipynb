{
 "cells": [
  {
   "cell_type": "code",
   "execution_count": 1,
   "id": "4c969979-0f2a-41e7-897e-0d5f685fed9c",
   "metadata": {},
   "outputs": [
    {
     "name": "stdout",
     "output_type": "stream",
     "text": [
      "little\n",
      "28\n",
      "linux\n",
      "sys.version_info(major=3, minor=8, micro=10, releaselevel='final', serial=0)\n"
     ]
    }
   ],
   "source": [
    "#Talking with interpreter\n",
    "# Working with sys module\n",
    "import sys\n",
    "# attribute to see the byte order of your current architecture\n",
    "print(sys.byteorder)\n",
    "# get size of python objects\n",
    "print(sys.getsizeof(10))\n",
    "# checking the platform\n",
    "print(sys.platform)\n",
    "# checking the python versions\n",
    "print(sys.version_info)"
   ]
  },
  {
   "cell_type": "code",
   "execution_count": 2,
   "id": "28ae4357-5d1e-45d8-9b8b-3a103af1fc4c",
   "metadata": {},
   "outputs": [
    {
     "name": "stdout",
     "output_type": "stream",
     "text": [
      "total 81\n",
      "-rwxrwx--- 1 root vboxsf 37762 Jun 26 10:01 Chapter 2.ipynb\n",
      "-rwxrwx--- 1 root vboxsf    85 Jun 24 16:57 temp.py\n",
      "-rwxrwx--- 1 root vboxsf   175 Jun 26 12:14 test.py\n",
      "-rwxrwx--- 1 root vboxsf   409 Jun 26 13:39 text.py\n",
      "-rwxrwx--- 1 root vboxsf  2574 Jun 24 19:06 Untitled1.ipynb\n",
      "-rwxrwx--- 1 root vboxsf 16677 Jun 24 18:33 Untitled.ipynb\n",
      "-rwxrwx--- 1 root vboxsf 10385 Jun 26 13:39 Working with Commandline.ipynb\n",
      "\n"
     ]
    }
   ],
   "source": [
    "# Spawn Processes with the subprocess Module\n",
    "# There are many instances when you need to run applications outside of Python from within your Python code. \n",
    "# This could be built-in shell commands, Bash scripts, or any other command-line application.\n",
    "# To do this, you spawn a new process (instance of the application).\n",
    "# Python package - subprocess\n",
    "# can run shell commands and collect output from within Python\n",
    "# The subprocess.run function returns a CompletedProcess instance once the process completes.\n",
    "import subprocess\n",
    "cp = subprocess.run(['ls','-l'],\n",
    "                            capture_output=True,\n",
    "                            universal_newlines=True)\n",
    "print(cp.stdout)\n",
    "# To capture the error can use (cp.stderrr). Alternatively add (check = True) parameter."
   ]
  },
  {
   "cell_type": "code",
   "execution_count": 3,
   "id": "93c6bc56-1b6f-416d-b991-7dc7a85034af",
   "metadata": {},
   "outputs": [],
   "source": [
    "# Creating command-line tools\n",
    "# MAKING YOUR SHELL SCRIPT EXECUTABLE"
   ]
  },
  {
   "cell_type": "code",
   "execution_count": 4,
   "id": "8f290a49-4ded-4a5c-8937-6e0f7ff7b52b",
   "metadata": {},
   "outputs": [
    {
     "name": "stdout",
     "output_type": "stream",
     "text": [
      "Overwriting text.py\n"
     ]
    }
   ],
   "source": [
    "%%writefile text.py\n",
    "#!/usr/bin/env python\n",
    "\n",
    "def say_it():\n",
    "    print(\"Yo yo yo\")\n",
    "\n",
    "if __name__ == '__main__':\n",
    "    say_it()"
   ]
  },
  {
   "cell_type": "code",
   "execution_count": 5,
   "id": "9d5727bb-ccc5-4cc2-8515-4482f92096f2",
   "metadata": {},
   "outputs": [
    {
     "name": "stdout",
     "output_type": "stream",
     "text": [
      "Yo yo yo\n"
     ]
    }
   ],
   "source": [
    "%%bash\n",
    "# Then make the file executable using chmod (a command-line tool for setting permissions):\n",
    "chmod +x text.py\n",
    "# call it in a shell without directly invoking Python\n",
    "./text.py"
   ]
  },
  {
   "cell_type": "raw",
   "id": "86e34ded-d39d-4712-8f57-05200b11baa8",
   "metadata": {},
   "source": [
    "Using sys.argv\n",
    "The simplest and most basic way to process arguments from the command line is to use the argv attribute of the sys module."
   ]
  },
  {
   "cell_type": "code",
   "execution_count": 6,
   "id": "ba1701f9-6587-43ce-8bed-916fe31b8714",
   "metadata": {},
   "outputs": [
    {
     "name": "stdout",
     "output_type": "stream",
     "text": [
      "Overwriting text.py\n"
     ]
    }
   ],
   "source": [
    "%%writefile text.py\n",
    "#!/usr/bin/env python\n",
    "import sys\n",
    "def say_it(greeting, target):\n",
    "    message = f'{greeting} {target}'\n",
    "    print(message)\n",
    "if __name__ == '__main__':\n",
    "    greeting = 'Hello'  \n",
    "    target = 'Joe'\n",
    "\n",
    "    if '--help' in sys.argv: \n",
    "        help_message = f\"Usage: {sys.argv[0]} --name <NAME> --greeting <GREETING>\"\n",
    "        print(help_message)\n",
    "        sys.exit()\n",
    "\n",
    "    if '--name' in sys.argv:\n",
    "        # Get position after name flag\n",
    "        name_index = sys.argv.index('--name') + 1 \n",
    "        if name_index < len(sys.argv):\n",
    "            name = sys.argv[name_index]\n",
    "\n",
    "    if '--greeting' in sys.argv:\n",
    "        # Get position after greeting flag\n",
    "        greeting_index = sys.argv.index('--greeting') + 1\n",
    "        if greeting_index < len(sys.argv):\n",
    "            greeting = sys.argv[greeting_index]\n",
    "\n",
    "    say_it(greeting, name)"
   ]
  },
  {
   "cell_type": "code",
   "execution_count": 7,
   "id": "4c4c1efe-3f88-46fe-8343-5b5006148682",
   "metadata": {},
   "outputs": [
    {
     "name": "stdout",
     "output_type": "stream",
     "text": [
      "Usage: ./text.py --name <NAME> --greeting <GREETING>\n",
      "Hey Krishna Pradeep\n"
     ]
    }
   ],
   "source": [
    "%%bash\n",
    "# Then make the file executable using chmod (a command-line tool for setting permissions):\n",
    "chmod +x text.py\n",
    "# call it in a shell without directly invoking Python\n",
    "./text.py --help\n",
    "./text.py --name \"Krishna Pradeep\" --greeting Hey"
   ]
  },
  {
   "cell_type": "raw",
   "id": "6b1f1851-4f90-4612-96a4-e6b988e429ac",
   "metadata": {},
   "source": [
    "There are modules and packages designed for the creation of command-line tools. \n",
    "These packages provide frameworks to design the user interface for your module when running in a shell. \n",
    "Three popular solutions are argparse, click, and python-fire. \n",
    "All three include ways to design required arguments, optional flags, and means to display help documentation."
   ]
  },
  {
   "cell_type": "code",
   "execution_count": 8,
   "id": "1414bf44-821a-4364-9d29-4ca84da6e983",
   "metadata": {},
   "outputs": [],
   "source": [
    "# Using argparse\n",
    "# can use parsers and subparsers"
   ]
  },
  {
   "cell_type": "code",
   "execution_count": 9,
   "id": "9b859c93-5d79-40fd-8071-b1189a8b8ab7",
   "metadata": {},
   "outputs": [
    {
     "name": "stdout",
     "output_type": "stream",
     "text": [
      "Overwriting text.py\n"
     ]
    }
   ],
   "source": [
    "%%writefile text.py\n",
    "#!/usr/bin/env python\n",
    "import argparse\n",
    "\n",
    "if __name__ == '__main__':\n",
    "    parser = argparse.ArgumentParser(description='Echo your input')\n",
    "    parser.add_argument('message', help='Message to echo')\n",
    "    parser.add_argument('--twice', '-t', required=True)     \n",
    "    args = parser.parse_args()  \n",
    "    print(args.message)  \n",
    "    if args.twice=='yes':\n",
    "        print(args.message)"
   ]
  },
  {
   "cell_type": "code",
   "execution_count": 10,
   "id": "5c6413aa-9006-43ad-89f7-8befe38f1bdd",
   "metadata": {},
   "outputs": [
    {
     "name": "stdout",
     "output_type": "stream",
     "text": [
      "kp\n",
      "kp\n",
      "\n"
     ]
    }
   ],
   "source": [
    "cp = subprocess.run(['./text.py','kp','--twice','yes'],\n",
    "                            capture_output=True,\n",
    "                            universal_newlines=True,\n",
    "                               check=True)\n",
    "print(cp.stdout)"
   ]
  },
  {
   "cell_type": "code",
   "execution_count": 11,
   "id": "4728e1e3-2e41-4848-92a7-db3acf137aa1",
   "metadata": {},
   "outputs": [],
   "source": [
    "# Click is a Python package for creating beautiful command line interfaces in a composable way with as little code as necessary."
   ]
  },
  {
   "cell_type": "code",
   "execution_count": 12,
   "id": "ff7cddff-35bc-4e12-b9b5-86252bafead1",
   "metadata": {},
   "outputs": [
    {
     "name": "stdout",
     "output_type": "stream",
     "text": [
      "Overwriting text.py\n"
     ]
    }
   ],
   "source": [
    "%%writefile text.py\n",
    "#!/usr/bin/env python\n",
    "import click\n",
    "@click.command()\n",
    "@click.option('--count', default=1, help='Number of greetings.')\n",
    "@click.option('--name', default='Your name',\n",
    "              help='The person to greet.')\n",
    "# @click.option('--name', prompt='Your name',\n",
    "#               help='The person to greet.')\n",
    "def hello(count, name):\n",
    "    \"\"\"Simple program that greets NAME for a total of COUNT times.\"\"\"\n",
    "    for x in range(count):\n",
    "        click.echo(f\"Hello {name}!\")\n",
    "\n",
    "if __name__ == '__main__':\n",
    "    hello()"
   ]
  },
  {
   "cell_type": "code",
   "execution_count": 13,
   "id": "eb1df275-7392-45f5-bc57-6b34e097cabc",
   "metadata": {},
   "outputs": [
    {
     "name": "stdout",
     "output_type": "stream",
     "text": [
      "Hello kpburgula!\n",
      "\n"
     ]
    }
   ],
   "source": [
    "cp = subprocess.run(['./text.py','--name=kpburgula'],\n",
    "                            capture_output=True,\n",
    "                            universal_newlines=True)\n",
    "print(cp.stdout)"
   ]
  },
  {
   "cell_type": "code",
   "execution_count": 14,
   "id": "ca649ac9-d774-44c5-891b-e9f62c358747",
   "metadata": {},
   "outputs": [],
   "source": [
    "# Other topics \n",
    "# - Fire package for CLI tools\n",
    "# - Implementing plug-ins"
   ]
  },
  {
   "cell_type": "raw",
   "id": "9835429e-4698-4408-abb3-5d49ee0d02bf",
   "metadata": {},
   "source": [
    "# Numba\n",
    "Python has a reputation for slow performance because it’s fundamentally a scripting language. One way to get around this problem is to use the Numba Just-in-Time (JIT) compiler. "
   ]
  },
  {
   "cell_type": "code",
   "execution_count": 16,
   "id": "57347a2e-0c80-41f3-9aff-534e2e8808a0",
   "metadata": {},
   "outputs": [
    {
     "name": "stdout",
     "output_type": "stream",
     "text": [
      "Collecting numba\n",
      "  Downloading numba-0.53.1-cp38-cp38-manylinux2014_x86_64.whl (3.4 MB)\n",
      "Requirement already satisfied: setuptools in /home/pradeep/miniconda3/envs/nlp/lib/python3.8/site-packages (from numba) (52.0.0.post20210125)\n",
      "Requirement already satisfied: numpy>=1.15 in /home/pradeep/miniconda3/envs/nlp/lib/python3.8/site-packages (from numba) (1.19.5)\n",
      "Collecting llvmlite<0.37,>=0.36.0rc1\n",
      "  Downloading llvmlite-0.36.0-cp38-cp38-manylinux2010_x86_64.whl (25.3 MB)\n",
      "Installing collected packages: llvmlite, numba\n",
      "Successfully installed llvmlite-0.36.0 numba-0.53.1\n"
     ]
    }
   ],
   "source": [
    "%%bash\n",
    "pip install numba"
   ]
  },
  {
   "cell_type": "code",
   "execution_count": 1,
   "id": "7cd59584-ba01-4cba-9190-fac0193c0f4e",
   "metadata": {},
   "outputs": [
    {
     "name": "stdout",
     "output_type": "stream",
     "text": [
      "CPU times: user 608 ms, sys: 285 ms, total: 893 ms\n",
      "Wall time: 454 ms\n"
     ]
    }
   ],
   "source": [
    "%%time\n",
    "from numba import jit\n",
    "import random"
   ]
  },
  {
   "cell_type": "code",
   "execution_count": 11,
   "id": "c08c8542-eeb2-4ebe-87fb-deacc43a3d28",
   "metadata": {},
   "outputs": [
    {
     "name": "stderr",
     "output_type": "stream",
     "text": [
      "/home/pradeep/miniconda3/envs/nlp/lib/python3.8/site-packages/numba/core/typed_passes.py:326: NumbaPerformanceWarning: \n",
      "The keyword argument 'parallel=True' was specified but no transformation for parallel execution was possible.\n",
      "\n",
      "To find out why, try turning on parallel diagnostics, see https://numba.pydata.org/numba-doc/latest/user/parallel.html#diagnostics for help.\n",
      "\n",
      "File \"<timed exec>\", line 1:\n",
      "<source missing, REPL/exec in use?>\n",
      "\n",
      "  warnings.warn(errors.NumbaPerformanceWarning(msg,\n"
     ]
    },
    {
     "name": "stdout",
     "output_type": "stream",
     "text": [
      "CPU times: user 9.31 s, sys: 17.1 ms, total: 9.32 s\n",
      "Wall time: 9.27 s\n"
     ]
    },
    {
     "data": {
      "text/plain": [
       "3.141592112"
      ]
     },
     "execution_count": 11,
     "metadata": {},
     "output_type": "execute_result"
    }
   ],
   "source": [
    "%%time\n",
    "@jit(nopython=True, parallel=True)\n",
    "def monte_carlo_pi(nsamples):\n",
    "    acc = 0\n",
    "    for i in range(nsamples):\n",
    "        x = random.random()\n",
    "        y = random.random()\n",
    "        if (x ** 2 + y ** 2) < 1.0:\n",
    "            acc += 1\n",
    "    return 4.0 * acc / nsamples\n",
    "monte_carlo_pi(1000000000)"
   ]
  },
  {
   "cell_type": "code",
   "execution_count": 12,
   "id": "a29ed575-2cdc-4e61-b4ef-75ab08da9df6",
   "metadata": {},
   "outputs": [
    {
     "name": "stdout",
     "output_type": "stream",
     "text": [
      "CPU times: user 5min 17s, sys: 710 ms, total: 5min 18s\n",
      "Wall time: 5min 18s\n"
     ]
    },
    {
     "data": {
      "text/plain": [
       "3.141623476"
      ]
     },
     "execution_count": 12,
     "metadata": {},
     "output_type": "execute_result"
    }
   ],
   "source": [
    "%%time\n",
    "# @jit(nopython=True)\n",
    "def monte_carlo_pi(nsamples):\n",
    "    acc = 0\n",
    "    for i in range(nsamples):\n",
    "        x = random.random()\n",
    "        y = random.random()\n",
    "        if (x ** 2 + y ** 2) < 1.0:\n",
    "            acc += 1\n",
    "    return 4.0 * acc / nsamples\n",
    "monte_carlo_pi(1000000000)"
   ]
  },
  {
   "cell_type": "code",
   "execution_count": null,
   "id": "e9c00930-bf82-4fe5-9d02-629b1f05b8df",
   "metadata": {},
   "outputs": [],
   "source": []
  }
 ],
 "metadata": {
  "kernelspec": {
   "display_name": "Python 3",
   "language": "python",
   "name": "python3"
  },
  "language_info": {
   "codemirror_mode": {
    "name": "ipython",
    "version": 3
   },
   "file_extension": ".py",
   "mimetype": "text/x-python",
   "name": "python",
   "nbconvert_exporter": "python",
   "pygments_lexer": "ipython3",
   "version": "3.8.10"
  }
 },
 "nbformat": 4,
 "nbformat_minor": 5
}

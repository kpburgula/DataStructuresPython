{
 "cells": [
  {
   "cell_type": "code",
   "execution_count": 1,
   "id": "9a305369-539b-4e39-90b6-05092f4f1bc4",
   "metadata": {},
   "outputs": [
    {
     "name": "stdout",
     "output_type": "stream",
     "text": [
      "Overwriting load_test.py\n"
     ]
    }
   ],
   "source": [
    "%%writefile load_test.py\n",
    "import molotov\n",
    "\n",
    "@molotov.scenario(100)\n",
    "async def scenario_one(session):\n",
    "    async with session.get(\"http://localhost:5000\") as resp:\n",
    "        assert resp.status == 200"
   ]
  },
  {
   "cell_type": "code",
   "execution_count": 2,
   "id": "beb9824f-8a26-4e91-a9a8-c241f4df5581",
   "metadata": {},
   "outputs": [
    {
     "name": "stdout",
     "output_type": "stream",
     "text": [
      "Overwriting small.py\n"
     ]
    }
   ],
   "source": [
    "%%writefile small.py\n",
    "from flask import Flask, redirect, request\n",
    "\n",
    "app = Flask('basic app')\n",
    "\n",
    "@app.route('/', methods=['GET', 'POST'])\n",
    "def index():\n",
    "    if request.method == 'POST':\n",
    "        redirect('https://www.google.com/search?q=%s' % request.args['q'])\n",
    "    else:\n",
    "        return '<h1>GET request from Flask!</h1>'"
   ]
  },
  {
   "cell_type": "code",
   "execution_count": 3,
   "id": "2f45af22-43d9-4db8-b9a1-28a030e631a4",
   "metadata": {},
   "outputs": [],
   "source": [
    "# FLASK_APP=small.py flask run\n",
    "# molotov -v -r 100 load_test.py"
   ]
  },
  {
   "cell_type": "code",
   "execution_count": null,
   "id": "65481dd6-48bf-426f-9149-8e18c48bf1f0",
   "metadata": {},
   "outputs": [],
   "source": []
  }
 ],
 "metadata": {
  "kernelspec": {
   "display_name": "Python 3",
   "language": "python",
   "name": "python3"
  },
  "language_info": {
   "codemirror_mode": {
    "name": "ipython",
    "version": 3
   },
   "file_extension": ".py",
   "mimetype": "text/x-python",
   "name": "python",
   "nbconvert_exporter": "python",
   "pygments_lexer": "ipython3",
   "version": "3.8.10"
  }
 },
 "nbformat": 4,
 "nbformat_minor": 5
}
